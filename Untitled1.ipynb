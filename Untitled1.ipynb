{
 "cells": [
  {
   "cell_type": "markdown",
   "metadata": {},
   "source": [
    "# Functions in Python"
   ]
  },
  {
   "cell_type": "code",
   "execution_count": 1,
   "metadata": {
    "collapsed": true
   },
   "outputs": [],
   "source": [
    "def hello():\n",
    "    name = input(\"enter your name :\")\n",
    "    print(\" welcome {} to python functions :\",format(name))"
   ]
  },
  {
   "cell_type": "code",
   "execution_count": 2,
   "metadata": {},
   "outputs": [
    {
     "name": "stdout",
     "output_type": "stream",
     "text": [
      "enter your name :mayank\n",
      " welcome {} to python functions : mayank\n",
      "None\n"
     ]
    }
   ],
   "source": [
    "x=hello()\n",
    "print(x)\n"
   ]
  },
  {
   "cell_type": "code",
   "execution_count": 7,
   "metadata": {},
   "outputs": [
    {
     "ename": "IndentationError",
     "evalue": "expected an indented block (<ipython-input-7-8f5008bdff47>, line 3)",
     "output_type": "error",
     "traceback": [
      "\u001b[1;36m  File \u001b[1;32m\"<ipython-input-7-8f5008bdff47>\"\u001b[1;36m, line \u001b[1;32m3\u001b[0m\n\u001b[1;33m    return x+y\u001b[0m\n\u001b[1;37m         ^\u001b[0m\n\u001b[1;31mIndentationError\u001b[0m\u001b[1;31m:\u001b[0m expected an indented block\n"
     ]
    }
   ],
   "source": [
    "def calc(x,y,ch):\n",
    "    if ch=='+':\n",
    "    return x+y"
   ]
  },
  {
   "cell_type": "code",
   "execution_count": 28,
   "metadata": {
    "collapsed": true
   },
   "outputs": [],
   "source": [
    "def Id(name,password)\n",
    "    name =int(input(\"enter the name\"))\n",
    "    password =input(\"enter the password\")\n",
    "    print(\"welcome to Id\",format(name,password))\n",
    "    return(name,password)\n",
    "    "
   ]
  },
  {
   "cell_type": "code",
   "execution_count": null,
   "metadata": {
    "collapsed": true
   },
   "outputs": [],
   "source": [
    "x=Id()\n",
    "print(x)\n",
    "q"
   ]
  },
  {
   "cell_type": "markdown",
   "metadata": {
    "collapsed": true
   },
   "source": [
    "# Banking System using functions"
   ]
  },
  {
   "cell_type": "code",
   "execution_count": 1,
   "metadata": {
    "collapsed": true
   },
   "outputs": [],
   "source": [
    "def menu():\n",
    "    money = int(10000)\n",
    "    money = float(money)\n",
    "    print(\"welcome to python bank\")\n",
    "    print(\" \")\n",
    "    print(\"your trasaction options are : \")\n",
    "    print(\"\\n\")\n",
    "    print(\"deposit money\")\n",
    "    print(\"withdraw money\")\n",
    "    print(\"check balance\")\n",
    "    print(\"quit\")\n",
    "    print(\"choose your option: \")\n",
    "def deposit(balance,money):\n",
    "    deposit = input(\"how much you want to deposit\")\n",
    "    deposit = float(deposit)\n",
    "    if deposut <= money :\n",
    "        balance = balance+1\n",
    "        money = money - deposit\n",
    "        money = float(money)\n",
    "        deposit = (deposit)\n",
    "        deposit = float(deposit)\n",
    "        balance = deposit+balance\n",
    "        balance = float(balance)\n",
    "        print(\"you have successfully deposited money \")\n",
    "        print(\"bank_balance\")\n",
    "        return balance\n",
    "    "
   ]
  },
  {
   "cell_type": "code",
   "execution_count": 4,
   "metadata": {},
   "outputs": [
    {
     "name": "stdout",
     "output_type": "stream",
     "text": [
      "global x value 10\n"
     ]
    }
   ],
   "source": [
    "x = 10\n",
    "print('global x value',x)\n",
    "def hey():\n",
    "    x=10\n",
    "    x=x+5\n",
    "    print(\"local x value\",x)\n",
    "    hey()\n",
    "    print(\"global x value\",x)\n",
    "    \n"
   ]
  },
  {
   "cell_type": "code",
   "execution_count": 9,
   "metadata": {},
   "outputs": [
    {
     "name": "stdout",
     "output_type": "stream",
     "text": [
      "3628800\n"
     ]
    }
   ],
   "source": [
    "fact = lambda r: 1 if r==1 else r*fact(r-1)\n",
    "print(fact(10))"
   ]
  },
  {
   "cell_type": "code",
   "execution_count": 11,
   "metadata": {},
   "outputs": [
    {
     "name": "stdout",
     "output_type": "stream",
     "text": [
      "12\n"
     ]
    }
   ],
   "source": [
    "\n",
    "a=12\n",
    "a\n",
    "print(a)\n"
   ]
  },
  {
   "cell_type": "code",
   "execution_count": 4,
   "metadata": {},
   "outputs": [
    {
     "name": "stdout",
     "output_type": "stream",
     "text": [
      "676 68\n",
      "[True, True]\n"
     ]
    }
   ],
   "source": [
    "x=list(map(int,input().split()))\n",
    "print(list(map(lambda y :True if y%2==0 else False,x)))"
   ]
  },
  {
   "cell_type": "code",
   "execution_count": null,
   "metadata": {
    "collapsed": true
   },
   "outputs": [],
   "source": []
  },
  {
   "cell_type": "code",
   "execution_count": null,
   "metadata": {
    "collapsed": true
   },
   "outputs": [],
   "source": [
    "97888"
   ]
  }
 ],
 "metadata": {
  "kernelspec": {
   "display_name": "Python 3",
   "language": "python",
   "name": "python3"
  },
  "language_info": {
   "codemirror_mode": {
    "name": "ipython",
    "version": 3
   },
   "file_extension": ".py",
   "mimetype": "text/x-python",
   "name": "python",
   "nbconvert_exporter": "python",
   "pygments_lexer": "ipython3",
   "version": "3.6.3"
  }
 },
 "nbformat": 4,
 "nbformat_minor": 2
}
